{
 "cells": [
  {
   "cell_type": "code",
   "execution_count": 7,
   "metadata": {},
   "outputs": [],
   "source": [
    "import scipy.stats as sts\n",
    "import numpy as np"
   ]
  },
  {
   "cell_type": "code",
   "execution_count": 12,
   "metadata": {},
   "outputs": [],
   "source": [
    "def distribution(rho: float, population_size: int):\n",
    "    return sts.norm(rho, ((1 + rho**2) / population_size) ** 0.5)\n",
    "\n",
    "def rho_selection_rule(rho: float = 0):\n",
    "    return 0.2 - rho if sts.bernoulli(0.7) else rho\n",
    "\n",
    "def generate_population(rho: float, population_size: int, number_samples: int):\n",
    "    p_value_estimator = (\n",
    "        lambda statistic: distribution(0, population_size).sf(statistic) * 2\n",
    "    )\n",
    "    rho =0 \n",
    "    for _ in range(number_samples):\n",
    "        samples = sts.multivariate_normal([0, 0], [[1, rho], [rho, 1]]).rvs(size=population_size)\n",
    "        yield p_value_estimator(abs((samples[:, 0] @ samples[:, 1]) / population_size))\n",
    "        rho = rho_selection_rule(rho)"
   ]
  },
  {
   "cell_type": "code",
   "execution_count": 9,
   "metadata": {},
   "outputs": [],
   "source": [
    "n_rejection = int\n",
    "\n",
    "\n",
    "def without_group_correction(p_values_spread: list[float], alpha: float) -> n_rejection:\n",
    "    return sum(p < alpha for p in p_values_spread)\n",
    "\n",
    "\n",
    "def bonferroni(p_values_spread: list[float], alpha: float) -> n_rejection:\n",
    "    return sum(p < alpha / len(p_values_spread) for p in p_values_spread)\n",
    "\n",
    "\n",
    "def benjamini_hochberg(p_values_spread: list[float], alpha: float) -> n_rejection:\n",
    "    sorted_inds = np.argsort(p_values_spread)\n",
    "    comparison_vec = p_values_spread[sorted_inds] <= np.ones(\n",
    "        len(p_values_spread)\n",
    "    ) * alpha / len(p_values_spread)\n",
    "    reject_cut_off_index = (\n",
    "        np.argmax(np.nonzero(comparison_vec)[0]) + 1 if comparison_vec.sum() > 0 else 0\n",
    "    )\n",
    "\n",
    "    return reject_cut_off_index"
   ]
  },
  {
   "cell_type": "code",
   "execution_count": 10,
   "metadata": {},
   "outputs": [],
   "source": [
    "n_trials = 100"
   ]
  },
  {
   "cell_type": "markdown",
   "metadata": {},
   "source": [
    "AA"
   ]
  },
  {
   "cell_type": "code",
   "execution_count": 14,
   "metadata": {},
   "outputs": [
    {
     "data": {
      "text/plain": [
       "np.int64(100)"
      ]
     },
     "execution_count": 14,
     "metadata": {},
     "output_type": "execute_result"
    }
   ],
   "source": [
    "sum(\n",
    "    bonferroni(\n",
    "        list(generate_population(rho=0, population_size=100, number_samples=1000)), 0.05\n",
    "    )\n",
    "    > 0\n",
    "    for _ in range(n_trials)\n",
    ")"
   ]
  },
  {
   "cell_type": "code",
   "execution_count": 16,
   "metadata": {},
   "outputs": [
    {
     "data": {
      "text/plain": [
       "np.int64(100)"
      ]
     },
     "execution_count": 16,
     "metadata": {},
     "output_type": "execute_result"
    }
   ],
   "source": [
    "sum(\n",
    "    benjamini_hochberg(\n",
    "        np.array(list(generate_population(rho=0, population_size=100, number_samples=1000))), 0.05\n",
    "    )\n",
    "    > 0\n",
    "    for _ in range(n_trials)\n",
    ")"
   ]
  },
  {
   "cell_type": "markdown",
   "metadata": {},
   "source": [
    "Due to loss of independence between samples conditions of test were violated leading to defection of validity of A/A test in twice of suggested significance level."
   ]
  }
 ],
 "metadata": {
  "kernelspec": {
   "display_name": ".venv",
   "language": "python",
   "name": "python3"
  },
  "language_info": {
   "codemirror_mode": {
    "name": "ipython",
    "version": 3
   },
   "file_extension": ".py",
   "mimetype": "text/x-python",
   "name": "python",
   "nbconvert_exporter": "python",
   "pygments_lexer": "ipython3",
   "version": "3.10.12"
  }
 },
 "nbformat": 4,
 "nbformat_minor": 2
}
