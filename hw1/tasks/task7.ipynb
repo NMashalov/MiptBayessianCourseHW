{
 "cells": [
  {
   "cell_type": "code",
   "execution_count": null,
   "metadata": {},
   "outputs": [],
   "source": [
    "import scipy.stats as sts\n",
    "import numpy as np"
   ]
  },
  {
   "cell_type": "code",
   "execution_count": 1,
   "metadata": {},
   "outputs": [],
   "source": [
    "def distribution(rho: float, population_size: int):\n",
    "    return sts.norm(rho, ((1 + rho**2) / population_size) ** 0.5)\n",
    "\n",
    "\n",
    "def generate_population(rho: float, population_size: int, number_samples: int):\n",
    "    p_value_estimator = (\n",
    "        lambda statistic: distribution(0, population_size).sf(statistic) * 2\n",
    "    )\n",
    "    dist = sts.multivariate_normal([0, 0], [[1, rho], [rho, 1]])\n",
    "    for _ in range(number_samples):\n",
    "        samples = dist.rvs(size=population_size)\n",
    "        yield p_value_estimator(abs((samples[:, 0] @ samples[:, 1]) / population_size))"
   ]
  },
  {
   "cell_type": "code",
   "execution_count": 2,
   "metadata": {},
   "outputs": [],
   "source": [
    "n_rejection = int\n",
    "\n",
    "\n",
    "def without_group_correction(p_values_spread: list[float], alpha: float) -> n_rejection:\n",
    "    return sum(p < alpha for p in p_values_spread)\n",
    "\n",
    "\n",
    "def bonferroni(p_values_spread: list[float], alpha: float) -> n_rejection:\n",
    "    return sum(p < alpha / len(p_values_spread) for p in p_values_spread)\n",
    "\n",
    "\n",
    "def benjamini_hochberg(p_values_spread: list[float], alpha: float) -> n_rejection:\n",
    "    sorted_inds = np.argsort(p_values_spread)\n",
    "    comparison_vec = p_values_spread[sorted_inds] <= np.ones(\n",
    "        len(p_values_spread)\n",
    "    ) * alpha / len(p_values_spread)\n",
    "    reject_cut_off_index = (\n",
    "        np.argmax(np.nonzero(comparison_vec)[0]) + 1 if comparison_vec.sum() > 0 else 0\n",
    "    )\n",
    "\n",
    "    return reject_cut_off_index"
   ]
  },
  {
   "cell_type": "code",
   "execution_count": null,
   "metadata": {},
   "outputs": [],
   "source": [
    "n_trials = 100"
   ]
  },
  {
   "cell_type": "code",
   "execution_count": null,
   "metadata": {},
   "outputs": [],
   "source": [
    "sum(\n",
    "    bonferroni(\n",
    "        list(generate_population(rho=0, population_size=100, number_samples=500)), 0.05\n",
    "    )\n",
    "    > 0\n",
    "    for _ in range(n_trials)\n",
    ")"
   ]
  }
 ],
 "metadata": {
  "kernelspec": {
   "display_name": ".venv",
   "language": "python",
   "name": "python3"
  },
  "language_info": {
   "codemirror_mode": {
    "name": "ipython",
    "version": 3
   },
   "file_extension": ".py",
   "mimetype": "text/x-python",
   "name": "python",
   "nbconvert_exporter": "python",
   "pygments_lexer": "ipython3",
   "version": "3.10.12"
  }
 },
 "nbformat": 4,
 "nbformat_minor": 2
}
