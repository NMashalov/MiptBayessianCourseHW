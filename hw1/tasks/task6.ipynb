{
 "cells": [
  {
   "cell_type": "code",
   "execution_count": 1,
   "metadata": {},
   "outputs": [],
   "source": [
    "import scipy.stats as sts"
   ]
  },
  {
   "cell_type": "code",
   "execution_count": 2,
   "metadata": {},
   "outputs": [],
   "source": [
    "def distribution(rho: float, population_size: int):\n",
    "    return sts.norm(rho, ((1 + rho**2) / population_size) ** 0.5)"
   ]
  },
  {
   "cell_type": "code",
   "execution_count": 36,
   "metadata": {},
   "outputs": [],
   "source": [
    "def generate_population(rho: float, size: int):\n",
    "    p_value_estimator = lambda statistic: distribution(0, size).sf(statistic) *2 \n",
    "    dist = sts.multivariate_normal([0, 0], [[1, rho], [rho, 1]])\n",
    "    for _ in range(500):\n",
    "        samples = dist.rvs(size=size)\n",
    "        yield p_value_estimator(abs((samples[:, 0] @ samples[:, 1]) / size))"
   ]
  },
  {
   "cell_type": "code",
   "execution_count": 37,
   "metadata": {},
   "outputs": [],
   "source": [
    "p_values_spread = [\n",
    "    experiment_p_value for experiment_p_value in generate_population(0, 100)\n",
    "] + [experiment_p_value for experiment_p_value in generate_population(0.2, 100)]"
   ]
  },
  {
   "cell_type": "code",
   "execution_count": 39,
   "metadata": {},
   "outputs": [
    {
     "data": {
      "text/plain": [
       "(np.float64(0.044), np.float64(0.49))"
      ]
     },
     "execution_count": 39,
     "metadata": {},
     "output_type": "execute_result"
    }
   ],
   "source": [
    "sum([p < 0.05 for p in p_values_spread[:500]]) / 500, sum([p < 0.05 for p in p_values_spread[500:]]) / 500"
   ]
  },
  {
   "cell_type": "markdown",
   "metadata": {},
   "source": [
    "Bonferroni"
   ]
  },
  {
   "cell_type": "code",
   "execution_count": 40,
   "metadata": {},
   "outputs": [
    {
     "data": {
      "text/plain": [
       "np.int64(0)"
      ]
     },
     "execution_count": 40,
     "metadata": {},
     "output_type": "execute_result"
    }
   ],
   "source": [
    "sum([p < 0.05/ 500 for p in p_values_spread[:500]])"
   ]
  },
  {
   "cell_type": "code",
   "execution_count": null,
   "metadata": {},
   "outputs": [],
   "source": []
  },
  {
   "cell_type": "code",
   "execution_count": null,
   "metadata": {},
   "outputs": [],
   "source": [
    "def sampler(distribution: rv_continuous, sample_size: int, number_of_populations: int):\n",
    "    for _ in number_of_populations:\n",
    "        yield distribution.rvs(sample_size)"
   ]
  },
  {
   "cell_type": "code",
   "execution_count": null,
   "metadata": {},
   "outputs": [],
   "source": [
    "for sample in sampler(norm(0.5), 100, 500):\n",
    "    sample"
   ]
  }
 ],
 "metadata": {
  "kernelspec": {
   "display_name": ".venv",
   "language": "python",
   "name": "python3"
  },
  "language_info": {
   "codemirror_mode": {
    "name": "ipython",
    "version": 3
   },
   "file_extension": ".py",
   "mimetype": "text/x-python",
   "name": "python",
   "nbconvert_exporter": "python",
   "pygments_lexer": "ipython3",
   "version": "3.10.12"
  }
 },
 "nbformat": 4,
 "nbformat_minor": 2
}
