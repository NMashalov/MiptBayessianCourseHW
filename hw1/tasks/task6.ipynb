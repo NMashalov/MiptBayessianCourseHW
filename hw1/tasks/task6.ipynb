{
 "cells": [
  {
   "cell_type": "code",
   "execution_count": 5,
   "metadata": {},
   "outputs": [],
   "source": [
    "import scipy.stats as sts\n",
    "import numpy as np"
   ]
  },
  {
   "cell_type": "code",
   "execution_count": 6,
   "metadata": {},
   "outputs": [],
   "source": [
    "def distribution(rho: float, population_size: int):\n",
    "    return sts.norm(rho, ((1 + rho**2) / population_size) ** 0.5)\n",
    "\n",
    "\n",
    "def generate_population(rho: float, population_size: int, number_samples: int):\n",
    "    p_value_estimator = (\n",
    "        lambda statistic: distribution(0, population_size).sf(statistic) * 2\n",
    "    )\n",
    "    dist = sts.multivariate_normal([0, 0], [[1, rho], [rho, 1]])\n",
    "    for _ in range(number_samples):\n",
    "        samples = dist.rvs(size=population_size)\n",
    "        yield p_value_estimator(abs((samples[:, 0] @ samples[:, 1]) / population_size))"
   ]
  },
  {
   "cell_type": "code",
   "execution_count": 64,
   "metadata": {},
   "outputs": [],
   "source": [
    "n_rejection = int\n",
    "\n",
    "\n",
    "def without_group_correction(p_values_spread: list[float], alpha: float) -> n_rejection:\n",
    "    return sum(p < alpha for p in p_values_spread)\n",
    "\n",
    "\n",
    "def bonferroni(p_values_spread: list[float], alpha: float) -> n_rejection:\n",
    "    return sum(p < alpha / len(p_values_spread) for p in p_values_spread)\n",
    "\n",
    "\n",
    "def benjamini_hochberg(p_values_spread: list[float], alpha: float) -> n_rejection:\n",
    "    sorted_inds = np.argsort(p_values_spread)\n",
    "    comparison_vec = p_values_spread[sorted_inds] <= np.ones(\n",
    "        len(p_values_spread)\n",
    "    ) * alpha / len(p_values_spread)\n",
    "    reject_cut_off_index = (\n",
    "        np.argmax(np.nonzero(comparison_vec)[0]) + 1 if comparison_vec.sum() > 0 else 0\n",
    "    )\n",
    "\n",
    "    return reject_cut_off_index"
   ]
  },
  {
   "cell_type": "markdown",
   "metadata": {},
   "source": [
    "A/A"
   ]
  },
  {
   "cell_type": "code",
   "execution_count": 9,
   "metadata": {},
   "outputs": [],
   "source": [
    "n_trials = 100"
   ]
  },
  {
   "cell_type": "code",
   "execution_count": 42,
   "metadata": {},
   "outputs": [
    {
     "data": {
      "text/plain": [
       "np.int64(100)"
      ]
     },
     "execution_count": 42,
     "metadata": {},
     "output_type": "execute_result"
    }
   ],
   "source": [
    "sum(\n",
    "    without_group_correction(\n",
    "        generate_population(rho=0, population_size=100, number_samples=500), 0.05\n",
    "    )\n",
    "    > 0\n",
    "    for _ in range(n_trials)\n",
    ")"
   ]
  },
  {
   "cell_type": "code",
   "execution_count": 28,
   "metadata": {},
   "outputs": [
    {
     "data": {
      "text/plain": [
       "np.int64(7)"
      ]
     },
     "execution_count": 28,
     "metadata": {},
     "output_type": "execute_result"
    }
   ],
   "source": [
    "sum(\n",
    "    bonferroni(\n",
    "        list(generate_population(rho=0, population_size=100, number_samples=500)), 0.05\n",
    "    )\n",
    "    > 0\n",
    "    for _ in range(n_trials)\n",
    ")"
   ]
  },
  {
   "cell_type": "code",
   "execution_count": 41,
   "metadata": {},
   "outputs": [
    {
     "data": {
      "text/plain": [
       "np.int64(7)"
      ]
     },
     "execution_count": 41,
     "metadata": {},
     "output_type": "execute_result"
    }
   ],
   "source": [
    "sum(\n",
    "    benjamini_hochberg(\n",
    "        np.array(\n",
    "            list(generate_population(rho=0, population_size=100, number_samples=500))\n",
    "        ),\n",
    "        0.05,\n",
    "    )\n",
    "    > 0\n",
    "    for _ in range(n_trials)\n",
    ")"
   ]
  },
  {
   "cell_type": "markdown",
   "metadata": {},
   "source": [
    "In absence of correction group hypothesis are falsely ratified, which corresponds to invalid selection of significance level. Bonferroni and Benjamini Hochberg shows valid results, FWER is comparable to suggested $5\\%$"
   ]
  },
  {
   "cell_type": "markdown",
   "metadata": {},
   "source": [
    "A/B"
   ]
  },
  {
   "cell_type": "code",
   "execution_count": 52,
   "metadata": {},
   "outputs": [],
   "source": [
    "n_trials = 500"
   ]
  },
  {
   "cell_type": "code",
   "execution_count": 55,
   "metadata": {},
   "outputs": [
    {
     "data": {
      "text/plain": [
       "np.int64(498)"
      ]
     },
     "execution_count": 55,
     "metadata": {},
     "output_type": "execute_result"
    }
   ],
   "source": [
    "sum(\n",
    "    bonferroni(\n",
    "        list(generate_population(rho=0.2, population_size=100, number_samples=50)), 0.05\n",
    "    )\n",
    "    > 0\n",
    "    for _ in range(n_trials)\n",
    ")"
   ]
  },
  {
   "cell_type": "code",
   "execution_count": 66,
   "metadata": {},
   "outputs": [
    {
     "data": {
      "text/plain": [
       "np.int64(498)"
      ]
     },
     "execution_count": 66,
     "metadata": {},
     "output_type": "execute_result"
    }
   ],
   "source": [
    "sum(\n",
    "    benjamini_hochberg(\n",
    "        np.array(\n",
    "            list(generate_population(rho=0.2, population_size=100, number_samples=50))\n",
    "        ),\n",
    "        0.05,\n",
    "    )\n",
    "    > 0\n",
    "    for _ in range(n_trials)\n",
    ")"
   ]
  },
  {
   "cell_type": "markdown",
   "metadata": {},
   "source": [
    "Power of finding at least one rejected hyptothesis with $\\rho=0.2$ are comparable and close to $100\\%$.\n",
    "For clarification let's build histogram with number of rejected hypothesis"
   ]
  },
  {
   "cell_type": "code",
   "execution_count": 56,
   "metadata": {},
   "outputs": [],
   "source": [
    "import matplotlib.pyplot as plt"
   ]
  },
  {
   "cell_type": "code",
   "execution_count": 58,
   "metadata": {},
   "outputs": [
    {
     "data": {
      "text/plain": [
       "(array([44., 56., 94., 84., 88., 59., 40., 15., 13.,  7.]),\n",
       " array([ 1. ,  2.1,  3.2,  4.3,  5.4,  6.5,  7.6,  8.7,  9.8, 10.9, 12. ]),\n",
       " <BarContainer object of 10 artists>)"
      ]
     },
     "execution_count": 58,
     "metadata": {},
     "output_type": "execute_result"
    },
    {
     "data": {
      "image/png": "[encoded data removed]",
      "text/plain": [
       "<Figure size 640x480 with 1 Axes>"
      ]
     },
     "metadata": {},
     "output_type": "display_data"
    }
   ],
   "source": [
    "plt.hist(\n",
    "    [\n",
    "        bonferroni(\n",
    "            list(generate_population(rho=0.2, population_size=100, number_samples=50)),\n",
    "            0.05,\n",
    "        )\n",
    "        for _ in range(n_trials)\n",
    "    ]\n",
    ")"
   ]
  },
  {
   "cell_type": "code",
   "execution_count": 67,
   "metadata": {},
   "outputs": [
    {
     "data": {
      "text/plain": [
       "(array([  9.,  32., 156.,  95., 144.,  22.,  28.,   6.,   6.,   2.]),\n",
       " array([ 0. ,  1.5,  3. ,  4.5,  6. ,  7.5,  9. , 10.5, 12. , 13.5, 15. ]),\n",
       " <BarContainer object of 10 artists>)"
      ]
     },
     "execution_count": 67,
     "metadata": {},
     "output_type": "execute_result"
    },
    {
     "data": {
      "image/png": "[encoded data removed]",
      "text/plain": [
       "<Figure size 640x480 with 1 Axes>"
      ]
     },
     "metadata": {},
     "output_type": "display_data"
    }
   ],
   "source": [
    "plt.hist(\n",
    "    [\n",
    "        benjamini_hochberg(\n",
    "            np.array(list(generate_population(rho=0.2, population_size=100, number_samples=50))),\n",
    "            0.05,\n",
    "        )\n",
    "        for _ in range(n_trials)\n",
    "    ]\n",
    ")"
   ]
  },
  {
   "cell_type": "markdown",
   "metadata": {},
   "source": [
    "Benjamini Hochberg is more sensitive method."
   ]
  }
 ],
 "metadata": {
  "kernelspec": {
   "display_name": ".venv",
   "language": "python",
   "name": "python3"
  },
  "language_info": {
   "codemirror_mode": {
    "name": "ipython",
    "version": 3
   },
   "file_extension": ".py",
   "mimetype": "text/x-python",
   "name": "python",
   "nbconvert_exporter": "python",
   "pygments_lexer": "ipython3",
   "version": "3.10.12"
  }
 },
 "nbformat": 4,
 "nbformat_minor": 2
}
