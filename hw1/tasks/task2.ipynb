{
 "cells": [
  {
   "cell_type": "code",
   "execution_count": 1,
   "metadata": {},
   "outputs": [],
   "source": [
    "import scipy.stats as sts\n",
    "import numpy as np\n",
    "import numpy.typing as npt\n",
    "from tqdm import tqdm"
   ]
  },
  {
   "cell_type": "code",
   "execution_count": 2,
   "metadata": {},
   "outputs": [],
   "source": [
    "def bootstrap_estimation(original_population: npt.NDArray[np.float64], iteration: str):\n",
    "    for _ in range(iteration):\n",
    "        yield np.quantile(\n",
    "            np.random.choice(original_population, size=len(original_population)), q=0.1\n",
    "        )\n",
    "\n",
    "\n",
    "def hypothesis_testing(\n",
    "    original_population: npt.NDArray[np.float64],\n",
    "    bootstrap_iteration: int = 1000,\n",
    "    alpha: float = 0.05,\n",
    "):\n",
    "    bootstrap_estimations = [\n",
    "        estimation\n",
    "        for estimation in bootstrap_estimation(\n",
    "            original_population=original_population, iteration=bootstrap_iteration\n",
    "        )\n",
    "    ]\n",
    "    mean, std = (\n",
    "        np.mean(bootstrap_estimations),\n",
    "        (np.var(bootstrap_estimations, ddof=1) / bootstrap_iteration) ** 0.5,\n",
    "    )\n",
    "    dist = sts.t(df=len(original_population))\n",
    "    return mean + std * dist.ppf(alpha / 2) < 0 < mean + std * dist.ppf(1 - alpha / 2)"
   ]
  },
  {
   "cell_type": "markdown",
   "metadata": {},
   "source": [
    "A/A"
   ]
  },
  {
   "cell_type": "code",
   "execution_count": 3,
   "metadata": {},
   "outputs": [
    {
     "name": "stderr",
     "output_type": "stream",
     "text": [
      "100%|██████████| 500/500 [00:49<00:00, 10.19it/s]\n"
     ]
    },
    {
     "data": {
      "text/plain": [
       "np.float64(0.048)"
      ]
     },
     "execution_count": 3,
     "metadata": {},
     "output_type": "execute_result"
    }
   ],
   "source": [
    "number_of_trials = 500\n",
    "\n",
    "sum(\n",
    "    hypothesis_testing(sts.norm(sts.norm.ppf(0.9)).rvs(50))\n",
    "    for _ in tqdm(range(number_of_trials))\n",
    ") / number_of_trials"
   ]
  },
  {
   "cell_type": "markdown",
   "metadata": {},
   "source": [
    "A/B"
   ]
  },
  {
   "cell_type": "code",
   "execution_count": 8,
   "metadata": {},
   "outputs": [
    {
     "name": "stderr",
     "output_type": "stream",
     "text": [
      "100%|██████████| 500/500 [00:40<00:00, 12.26it/s]\n"
     ]
    },
    {
     "data": {
      "text/plain": [
       "np.float64(0.956)"
      ]
     },
     "execution_count": 8,
     "metadata": {},
     "output_type": "execute_result"
    }
   ],
   "source": [
    "number_of_trials = 500\n",
    "\n",
    "(\n",
    "    1\n",
    "    - sum(\n",
    "        hypothesis_testing(sts.norm(sts.norm.ppf(0.85)).rvs(50))\n",
    "        for _ in tqdm(range(number_of_trials))\n",
    "    )\n",
    "    / number_of_trials\n",
    ")"
   ]
  },
  {
   "cell_type": "markdown",
   "metadata": {},
   "source": [
    "Distance of 5 percentiles achieves 0.95 estimator power "
   ]
  }
 ],
 "metadata": {
  "kernelspec": {
   "display_name": ".venv",
   "language": "python",
   "name": "python3"
  },
  "language_info": {
   "codemirror_mode": {
    "name": "ipython",
    "version": 3
   },
   "file_extension": ".py",
   "mimetype": "text/x-python",
   "name": "python",
   "nbconvert_exporter": "python",
   "pygments_lexer": "ipython3",
   "version": "3.10.12"
  }
 },
 "nbformat": 4,
 "nbformat_minor": 2
}
